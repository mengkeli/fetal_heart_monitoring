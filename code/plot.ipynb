{
 "cells": [
  {
   "cell_type": "code",
   "execution_count": 1,
   "metadata": {},
   "outputs": [],
   "source": [
    "# fixing the missing values and smoothing the line\n",
    "import pandas as pd\n",
    "import numpy as np\n",
    "import matplotlib.pyplot as plt\n",
    "from PIL import Image\n",
    "from matplotlib.pyplot import savefig, axis\n",
    "from scipy import interpolate\n",
    "import random"
   ]
  },
  {
   "cell_type": "code",
   "execution_count": null,
   "metadata": {},
   "outputs": [
    {
     "name": "stderr",
     "output_type": "stream",
     "text": [
      "/Library/Python/2.7/site-packages/sklearn/cross_validation.py:41: DeprecationWarning: This module was deprecated in version 0.18 in favor of the model_selection module into which all the refactored classes and functions are moved. Also note that the interface of the new CV iterators are different from that of this module. This module will be removed in 0.20.\n",
      "  \"This module will be removed in 0.20.\", DeprecationWarning)\n"
     ]
    }
   ],
   "source": [
    " # -*- coding:utf-8 -*-\n",
    "\n",
    "from sklearn import cross_validation, svm\n",
    "from sklearn.externals import joblib\n",
    "import pandas as pd\n",
    "import func\n",
    "\n",
    "datapath = '../data/'\n",
    "data = pd.read_csv(datapath + 'data_gzip.csv.filter.mean')\n",
    "info = pd.read_csv(datapath + 'info.csv')\n",
    "merge = pd.merge(data, info, on='id')\n",
    "with_pca = False\n",
    "\n",
    "# 提取特征和y\n",
    "labels = merge['nst_result']\n",
    "merge.drop(['id', 'nst_result'], axis=1, inplace=True)\n",
    "\n",
    "# 去掉info带来的特征\n",
    "info_features = ['jianceshichang', 'jixian', 'jixianbianyi', 'taidongjiasutime', 'taidongjiasufudu', 'taidongcishu',\n",
    "                 'bianyizhouqi', 'jiasu', 'jiasuzhenfu', 'jiasutimes', 'jiansu', 'jiansuzhenfu', 'jiansuzhouqi',\n",
    "                 'jiansutimes', 'wanjiansu', 'wanjiansuzhenfu', 'wanjiansuzhouqi', 'wanjiansutimes', 'jixian',\n",
    "                 'jixianbianyi', 'taidongjiasutime', 'taidongjiasufudu', 'taidongcishu']\n",
    "\n",
    "merge.drop(info_features, axis=1, inplace=True)\n",
    "train = merge.fillna(0).as_matrix()\n",
    "\n",
    "lowDMat, reconMat = func.pca(train, 100)\n",
    "trainMat = lowDMat if with_pca else train\n",
    "X_train, X_test, y_train, y_test = cross_validation.train_test_split(trainMat, labels, test_size=0.3)\n",
    "\n",
    "# svm\n",
    "clf = svm.SVC(kernel='linear')\n",
    "clf.fit(X_train, y_train)\n",
    "print clf.score(X_test, y_test)\n",
    "\n",
    "# save model\n",
    "model_file = '../model/svm_data_feature.model'\n",
    "joblib.dump(clf, model_file)\n",
    "\n",
    "# # predict\n",
    "# clf = joblib.load(model_file)\n",
    "# clf.predict(X_test)\n",
    "\n",
    "\n"
   ]
  },
  {
   "cell_type": "code",
   "execution_count": null,
   "metadata": {},
   "outputs": [],
   "source": []
  }
 ],
 "metadata": {
  "kernelspec": {
   "display_name": "Python 3",
   "language": "python",
   "name": "python3"
  },
  "language_info": {
   "codemirror_mode": {
    "name": "ipython",
    "version": 2
   },
   "file_extension": ".py",
   "mimetype": "text/x-python",
   "name": "python",
   "nbconvert_exporter": "python",
   "pygments_lexer": "ipython2",
   "version": "2.7.10"
  }
 },
 "nbformat": 4,
 "nbformat_minor": 2
}
