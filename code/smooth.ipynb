{
 "cells": [
  {
   "cell_type": "code",
   "execution_count": 13,
   "metadata": {
    "collapsed": true
   },
   "outputs": [],
   "source": [
    "# fixing the missing values and smoothing the line\n",
    "import pandas as pd\n",
    "import numpy as np\n",
    "import matplotlib.pyplot as plt\n",
    "from PIL import Image\n",
    "from matplotlib.pyplot import savefig, axis\n",
    "from scipy import interpolate\n",
    "import random\n",
    "\n",
    "datapath = '../data/'\n",
    "series_file = datapath + 'fetal_series_02_50.npy'\n",
    "image_file = datapath + 'fetal_image_02_50_bold.npy'"
   ]
  },
  {
   "cell_type": "code",
   "execution_count": 45,
   "metadata": {},
   "outputs": [],
   "source": [
    "f = np.load(series_file)\n",
    "arr_100 = f[0:100, 0:-1]\n",
    "label_100 = f[0:100, -1]\n",
    "arr_100_d = DataFrame(arr_100)\n",
    "np.savetxt(datapath+'94th_sample.csv', arr_100[94, :],delimiter = ',')\n"
   ]
  },
  {
   "cell_type": "code",
   "execution_count": 30,
   "metadata": {},
   "outputs": [
    {
     "data": {
      "text/plain": [
       "(2402,)"
      ]
     },
     "execution_count": 30,
     "metadata": {},
     "output_type": "execute_result"
    }
   ],
   "source": [
    "#x = np.linspace(0, 2401, num = 2402)\n",
    "y = arr_100[94,:]\n",
    "\n",
    "y_d = DataFrame(y)\n",
    "y_d"
   ]
  },
  {
   "cell_type": "code",
   "execution_count": 23,
   "metadata": {
    "collapsed": true
   },
   "outputs": [],
   "source": [
    "y = np.array([random.randint(0, 10) for _ in range(10)])\n",
    "x = np.array([num for num in range(10)])\n",
    "xnew = np.arange(0, 9, 0.5)"
   ]
  },
  {
   "cell_type": "code",
   "execution_count": 24,
   "metadata": {},
   "outputs": [
    {
     "data": {
      "text/plain": [
       "10"
      ]
     },
     "execution_count": 24,
     "metadata": {},
     "output_type": "execute_result"
    }
   ],
   "source": [
    "x.size"
   ]
  },
  {
   "cell_type": "code",
   "execution_count": 25,
   "metadata": {
    "collapsed": true
   },
   "outputs": [],
   "source": [
    "\"\"\"\n",
    "kind方法：\n",
    "nearest、zero、slinear、quadratic、cubic\n",
    "实现函数func\n",
    "\"\"\"\n",
    "func = interpolate.interp1d(x, y, kind='cubic')\n",
    "# 利用xnew和func函数生成ynew，xnew的数量等于ynew数量\n",
    "ynew = func(xnew)\n"
   ]
  },
  {
   "cell_type": "code",
   "execution_count": 26,
   "metadata": {
    "collapsed": true
   },
   "outputs": [],
   "source": [
    "\n",
    "# 原图\n",
    "plt.plot(x, y, 'ro-')\n",
    "savefig(datapath+'images/'+'raw.jpg')\n",
    "# 拟合之后的平滑曲线图\n",
    "plt.plot(xnew, ynew)\n",
    "savefig(datapath+'images/'+'smooth.jpg')"
   ]
  },
  {
   "cell_type": "code",
   "execution_count": null,
   "metadata": {
    "collapsed": true
   },
   "outputs": [],
   "source": []
  }
 ],
 "metadata": {
  "kernelspec": {
   "display_name": "Python 2",
   "language": "python",
   "name": "python2"
  },
  "language_info": {
   "codemirror_mode": {
    "name": "ipython",
    "version": 2
   },
   "file_extension": ".py",
   "mimetype": "text/x-python",
   "name": "python",
   "nbconvert_exporter": "python",
   "pygments_lexer": "ipython2",
   "version": "2.7.12"
  }
 },
 "nbformat": 4,
 "nbformat_minor": 2
}
